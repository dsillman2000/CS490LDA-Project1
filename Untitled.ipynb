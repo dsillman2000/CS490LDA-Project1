{
 "cells": [
  {
   "cell_type": "code",
   "execution_count": 59,
   "id": "bf263813-dc9b-42e1-925c-c96d72d52d0f",
   "metadata": {},
   "outputs": [],
   "source": [
    "import pickle\n",
    "from dateutil.parser import parse, ParserError\n",
    "import numpy as np\n",
    "\n",
    "X = []\n",
    "y = []\n",
    "\n",
    "with open(\"Mac.log\", \"r\", encoding='utf-8') as f:\n",
    "    line = f.readline()\n",
    "    i = 0\n",
    "    while line:\n",
    "        dline = line[:15]\n",
    "        try:\n",
    "            dt = parse(dline)\n",
    "        except ParserError:\n",
    "            line = f.readline()\n",
    "            continue\n",
    "        ts = float(dt.timestamp())\n",
    "        if len(X) and ts < X[-1]:\n",
    "            line = f.readline()\n",
    "            continue\n",
    "        X.append(ts)\n",
    "        y.append(float(i))\n",
    "        i += 1\n",
    "        line = f.readline()\n",
    "        \n",
    "X = np.array(X)\n",
    "X -= min(X)\n",
    "y = np.array(y)\n",
    "dataset = np.array([X.reshape(-1,1),y.reshape(-1,1)])\n",
    "\n",
    "with open(\"mac117k.data\", \"wb\") as f:\n",
    "    pickle.dump(dataset, f)"
   ]
  },
  {
   "cell_type": "code",
   "execution_count": 60,
   "id": "b016a2a3-0879-47f4-82ee-04e43ab666f8",
   "metadata": {},
   "outputs": [
    {
     "data": {
      "image/png": "[encoded data removed]",
      "text/plain": [
       "<Figure size 432x288 with 1 Axes>"
      ]
     },
     "metadata": {},
     "output_type": "display_data"
    }
   ],
   "source": [
    "sample = np.random.choice(X, size=2000)\n",
    "import matplotlib.pyplot as plt\n",
    "import seaborn as sns\n",
    "sns.set()\n",
    "plt.plot(X, y)\n",
    "plt.show()"
   ]
  },
  {
   "cell_type": "code",
   "execution_count": 61,
   "id": "f9c6ef82-1af3-4b89-bf39-4353983a6b72",
   "metadata": {},
   "outputs": [
    {
     "data": {
      "text/plain": [
       "(dtype('float64'), dtype('float64'))"
      ]
     },
     "execution_count": 61,
     "metadata": {},
     "output_type": "execute_result"
    }
   ],
   "source": [
    "X.dtype, y.dtype"
   ]
  },
  {
   "cell_type": "code",
   "execution_count": null,
   "id": "b3cca4c4-f4ae-47f8-bec7-c974bd3dda14",
   "metadata": {},
   "outputs": [],
   "source": []
  }
 ],
 "metadata": {
  "kernelspec": {
   "display_name": "Python 3",
   "language": "python",
   "name": "python3"
  },
  "language_info": {
   "codemirror_mode": {
    "name": "ipython",
    "version": 3
   },
   "file_extension": ".py",
   "mimetype": "text/x-python",
   "name": "python",
   "nbconvert_exporter": "python",
   "pygments_lexer": "ipython3",
   "version": "3.8.8"
  }
 },
 "nbformat": 4,
 "nbformat_minor": 5
}
