{
 "cells": [
  {
   "cell_type": "code",
   "execution_count": 1,
   "id": "bcff6c3f-0450-4564-acab-231f3cab849f",
   "metadata": {
    "tags": []
   },
   "outputs": [],
   "source": [
    "from model import *\n",
    "from sortedlist import *\n",
    "import numpy as np\n",
    "import tensorflow as tf\n",
    "import matplotlib.pyplot as plt\n",
    "import seaborn as sns\n",
    "import random\n",
    "import os\n",
    "sns.set()"
   ]
  },
  {
   "cell_type": "code",
   "execution_count": 2,
   "id": "850e5a4f-09e7-4345-82cb-7cfc88c37409",
   "metadata": {},
   "outputs": [
    {
     "data": {
      "text/plain": [
       "[2,\n",
       " 9,\n",
       " 12,\n",
       " 13,\n",
       " 14,\n",
       " 18,\n",
       " 19,\n",
       " 23,\n",
       " 28,\n",
       " 28,\n",
       " 30,\n",
       " 31,\n",
       " 32,\n",
       " 46,\n",
       " 51,\n",
       " 52,\n",
       " 57,\n",
       " 59,\n",
       " 60,\n",
       " 65,\n",
       " 83,\n",
       " 85,\n",
       " 87,\n",
       " 90,\n",
       " 90]"
      ]
     },
     "execution_count": 2,
     "metadata": {},
     "output_type": "execute_result"
    }
   ],
   "source": [
    "L = 100\n",
    "test = SortedList.fromlist(np.random.randint(0, 4*L, size=L))\n",
    "test[:25]"
   ]
  },
  {
   "cell_type": "code",
   "execution_count": 3,
   "id": "7f5b9350-b53c-442a-8e5c-90effb79c272",
   "metadata": {},
   "outputs": [
    {
     "data": {
      "text/plain": [
       "(<ShuffleDataset shapes: ((1, 1), (1, 1)), types: (tf.float64, tf.float64)>,\n",
       " 100)"
      ]
     },
     "execution_count": 3,
     "metadata": {},
     "output_type": "execute_result"
    }
   ],
   "source": [
    "tests = enumerate(test)\n",
    "testy, testx = zip(*tests)\n",
    "testx = np.array(list(testx), dtype=np.float64).reshape(-1,1,1)\n",
    "testy = np.array(list(testy), dtype=np.float64).reshape(-1,1,1)\n",
    "dataset = tf.data.Dataset.from_tensor_slices((testx, testy))\n",
    "dataset = dataset.shuffle(L)\n",
    "dataset, len(dataset)"
   ]
  },
  {
   "cell_type": "code",
   "execution_count": 7,
   "id": "912d68dc-c93b-4eb1-8e3f-2146d5933879",
   "metadata": {
    "tags": []
   },
   "outputs": [
    {
     "name": "stdout",
     "output_type": "stream",
     "text": [
      "Epoch 1/5\n",
      "100/100 [==============================] - 0s 2ms/step - loss: 9117.4805 - max_absolute_error: 256.7462\n",
      "Epoch 2/5\n",
      "100/100 [==============================] - 0s 1ms/step - loss: 588.5677 - max_absolute_error: 57.8856\n",
      "Epoch 3/5\n",
      "100/100 [==============================] - 0s 2ms/step - loss: 63.6760 - max_absolute_error: 19.5952\n",
      "Epoch 4/5\n",
      "100/100 [==============================] - 0s 2ms/step - loss: 8.9528 - max_absolute_error: 6.8510\n",
      "Epoch 5/5\n",
      "100/100 [==============================] - 0s 2ms/step - loss: 3.7891 - max_absolute_error: 4.8415\n",
      "[i=0,j=0,p=0]len(subset)=47\n",
      "[i=0,j=0,p=1]len(subset)=52\n",
      "Epoch 1/5\n",
      "47/47 [==============================] - 0s 2ms/step - loss: 3.5610 - max_absolute_error: 4.8415\n",
      "Epoch 2/5\n",
      "47/47 [==============================] - 0s 2ms/step - loss: 3.4628 - max_absolute_error: 4.0753\n",
      "Epoch 3/5\n",
      "47/47 [==============================] - 0s 2ms/step - loss: 3.4492 - max_absolute_error: 4.0170\n",
      "Epoch 4/5\n",
      "47/47 [==============================] - 0s 2ms/step - loss: 3.4487 - max_absolute_error: 3.9953\n",
      "Epoch 5/5\n",
      "47/47 [==============================] - 0s 2ms/step - loss: 3.4490 - max_absolute_error: 3.9882\n",
      "[i=1,j=0,p=0]len(subset)=9\n",
      "[i=1,j=0,p=1]len(subset)=8\n",
      "[i=1,j=0,p=2]len(subset)=15\n",
      "[i=1,j=0,p=3]len(subset)=15\n",
      "Epoch 1/5\n",
      "52/52 [==============================] - 0s 2ms/step - loss: 3.6397 - max_absolute_error: 4.8549\n",
      "Epoch 2/5\n",
      "52/52 [==============================] - 0s 1ms/step - loss: 3.5253 - max_absolute_error: 4.8837\n",
      "Epoch 3/5\n",
      "52/52 [==============================] - 0s 2ms/step - loss: 3.5139 - max_absolute_error: 4.8986\n",
      "Epoch 4/5\n",
      "52/52 [==============================] - 0s 2ms/step - loss: 3.5158 - max_absolute_error: 4.9027\n",
      "Epoch 5/5\n",
      "52/52 [==============================] - 0s 2ms/step - loss: 3.5158 - max_absolute_error: 4.9012\n",
      "[i=1,j=1,p=0]len(subset)=15\n",
      "[i=1,j=1,p=1]len(subset)=11\n",
      "[i=1,j=1,p=2]len(subset)=15\n",
      "[i=1,j=1,p=3]len(subset)=11\n",
      "Epoch 1/5\n",
      "9/9 [==============================] - 0s 2ms/step - loss: 5.2837 - max_absolute_error: 4.9012\n",
      "Epoch 2/5\n",
      "9/9 [==============================] - 0s 2ms/step - loss: 5.2476 - max_absolute_error: 3.4663\n",
      "Epoch 3/5\n",
      "9/9 [==============================] - 0s 2ms/step - loss: 5.1887 - max_absolute_error: 3.4496\n",
      "Epoch 4/5\n",
      "9/9 [==============================] - 0s 2ms/step - loss: 5.1210 - max_absolute_error: 3.4306\n",
      "Epoch 5/5\n",
      "9/9 [==============================] - 0s 2ms/step - loss: 5.0503 - max_absolute_error: 3.4107\n",
      "[i=2,j=0,p=0]len(subset)=7\n",
      "[i=2,j=0,p=1]len(subset)=2\n",
      "[i=2,j=0,p=2]len(subset)=0\n",
      "[i=2,j=0,p=3]len(subset)=0\n",
      "[i=2,j=0,p=4]len(subset)=0\n",
      "Epoch 1/5\n",
      "8/8 [==============================] - 0s 2ms/step - loss: 4.6993 - max_absolute_error: 3.7989\n",
      "Epoch 2/5\n",
      "8/8 [==============================] - 0s 2ms/step - loss: 4.6449 - max_absolute_error: 3.7574\n",
      "Epoch 3/5\n",
      "8/8 [==============================] - 0s 2ms/step - loss: 4.5776 - max_absolute_error: 3.7073\n",
      "Epoch 4/5\n",
      "8/8 [==============================] - 0s 2ms/step - loss: 4.5088 - max_absolute_error: 3.6547\n",
      "Epoch 5/5\n",
      "8/8 [==============================] - 0s 2ms/step - loss: 4.4433 - max_absolute_error: 3.6024\n",
      "[i=2,j=1,p=0]len(subset)=0\n",
      "[i=2,j=1,p=1]len(subset)=4\n",
      "[i=2,j=1,p=2]len(subset)=4\n",
      "[i=2,j=1,p=3]len(subset)=0\n",
      "[i=2,j=1,p=4]len(subset)=0\n",
      "Epoch 1/5\n",
      "15/15 [==============================] - 0s 2ms/step - loss: 4.6356 - max_absolute_error: 4.2647\n",
      "Epoch 2/5\n",
      "15/15 [==============================] - 0s 2ms/step - loss: 4.2281 - max_absolute_error: 4.0882\n",
      "Epoch 3/5\n",
      "15/15 [==============================] - 0s 2ms/step - loss: 3.8724 - max_absolute_error: 3.9180\n",
      "Epoch 4/5\n",
      "15/15 [==============================] - 0s 2ms/step - loss: 3.6403 - max_absolute_error: 3.7774\n",
      "Epoch 5/5\n",
      "15/15 [==============================] - 0s 2ms/step - loss: 3.5021 - max_absolute_error: 3.6668\n",
      "[i=2,j=2,p=0]len(subset)=0\n",
      "[i=2,j=2,p=1]len(subset)=0\n",
      "[i=2,j=2,p=2]len(subset)=8\n",
      "[i=2,j=2,p=3]len(subset)=7\n",
      "[i=2,j=2,p=4]len(subset)=0\n",
      "Epoch 1/5\n",
      "15/15 [==============================] - 0s 2ms/step - loss: 0.9123 - max_absolute_error: 3.6668\n",
      "Epoch 2/5\n",
      "15/15 [==============================] - ETA: 0s - loss: 1.4896 - max_absolute_error: 1.22 - 0s 2ms/step - loss: 0.9065 - max_absolute_error: 1.6459\n",
      "Epoch 3/5\n",
      "15/15 [==============================] - 0s 2ms/step - loss: 0.9044 - max_absolute_error: 1.6700\n",
      "Epoch 4/5\n",
      "15/15 [==============================] - 0s 2ms/step - loss: 0.9039 - max_absolute_error: 1.6832\n",
      "Epoch 5/5\n",
      "15/15 [==============================] - 0s 2ms/step - loss: 0.9038 - max_absolute_error: 1.6896\n",
      "[i=2,j=3,p=0]len(subset)=0\n",
      "[i=2,j=3,p=1]len(subset)=0\n",
      "[i=2,j=3,p=2]len(subset)=0\n",
      "[i=2,j=3,p=3]len(subset)=4\n",
      "[i=2,j=3,p=4]len(subset)=11\n",
      "Epoch 1/5\n",
      "15/15 [==============================] - 0s 2ms/step - loss: 5.8028 - max_absolute_error: 4.8609\n",
      "Epoch 2/5\n",
      "15/15 [==============================] - 0s 2ms/step - loss: 5.7410 - max_absolute_error: 4.8503\n",
      "Epoch 3/5\n",
      "15/15 [==============================] - 0s 2ms/step - loss: 5.6579 - max_absolute_error: 4.8344\n",
      "Epoch 4/5\n",
      "15/15 [==============================] - 0s 2ms/step - loss: 5.5709 - max_absolute_error: 4.8174\n",
      "Epoch 5/5\n",
      "15/15 [==============================] - 0s 2ms/step - loss: 5.4838 - max_absolute_error: 4.7999\n",
      "Epoch 1/5\n",
      "11/11 [==============================] - 0s 2ms/step - loss: 3.3792 - max_absolute_error: 4.7999\n",
      "Epoch 2/5\n",
      "11/11 [==============================] - 0s 2ms/step - loss: 3.3613 - max_absolute_error: 3.0031\n",
      "Epoch 3/5\n",
      "11/11 [==============================] - 0s 2ms/step - loss: 3.3424 - max_absolute_error: 2.9731\n",
      "Epoch 4/5\n",
      "11/11 [==============================] - 0s 2ms/step - loss: 3.3249 - max_absolute_error: 2.9428\n",
      "Epoch 5/5\n",
      "11/11 [==============================] - 0s 2ms/step - loss: 3.3092 - max_absolute_error: 2.9135\n",
      "Epoch 1/5\n",
      "15/15 [==============================] - 0s 2ms/step - loss: 3.8149 - max_absolute_error: 4.2899\n",
      "Epoch 2/5\n",
      "15/15 [==============================] - 0s 2ms/step - loss: 3.4907 - max_absolute_error: 4.1385\n",
      "Epoch 3/5\n",
      "15/15 [==============================] - 0s 2ms/step - loss: 3.2143 - max_absolute_error: 3.9882\n",
      "Epoch 4/5\n",
      "15/15 [==============================] - 0s 2ms/step - loss: 3.0317 - max_absolute_error: 3.8614\n",
      "Epoch 5/5\n",
      "15/15 [==============================] - 0s 2ms/step - loss: 2.9208 - max_absolute_error: 3.7597\n",
      "Epoch 1/5\n",
      "11/11 [==============================] - 0s 2ms/step - loss: 0.8550 - max_absolute_error: 3.7597\n",
      "Epoch 2/5\n",
      "11/11 [==============================] - 0s 2ms/step - loss: 0.7555 - max_absolute_error: 1.6748\n",
      "Epoch 3/5\n",
      "11/11 [==============================] - 0s 2ms/step - loss: 0.6851 - max_absolute_error: 1.5522\n",
      "Epoch 4/5\n",
      "11/11 [==============================] - 0s 2ms/step - loss: 0.6543 - max_absolute_error: 1.4522\n",
      "Epoch 5/5\n",
      "11/11 [==============================] - 0s 2ms/step - loss: 0.6468 - max_absolute_error: 1.3824\n"
     ]
    },
    {
     "ename": "IndexError",
     "evalue": "list index out of range",
     "output_type": "error",
     "traceback": [
      "\u001b[1;31m---------------------------------------------------------------------------\u001b[0m",
      "\u001b[1;31mIndexError\u001b[0m                                Traceback (most recent call last)",
      "\u001b[1;32m<ipython-input-7-fff2c1b119cd>\u001b[0m in \u001b[0;36m<module>\u001b[1;34m\u001b[0m\n\u001b[0;32m      1\u001b[0m \u001b[1;32mfrom\u001b[0m \u001b[0mmatplotlib\u001b[0m\u001b[1;33m.\u001b[0m\u001b[0mpatches\u001b[0m \u001b[1;32mimport\u001b[0m \u001b[0mRectangle\u001b[0m\u001b[1;33m\u001b[0m\u001b[1;33m\u001b[0m\u001b[0m\n\u001b[0;32m      2\u001b[0m \u001b[0mn_epochs\u001b[0m\u001b[1;33m=\u001b[0m\u001b[1;36m5\u001b[0m\u001b[1;33m\u001b[0m\u001b[1;33m\u001b[0m\u001b[0m\n\u001b[1;32m----> 3\u001b[1;33m \u001b[0mmodel\u001b[0m \u001b[1;33m=\u001b[0m \u001b[0mbuild_fit_rmi_model\u001b[0m\u001b[1;33m(\u001b[0m\u001b[0mdataset\u001b[0m\u001b[1;33m,\u001b[0m \u001b[0mstages\u001b[0m\u001b[1;33m=\u001b[0m\u001b[1;33m(\u001b[0m\u001b[1;36m1\u001b[0m\u001b[1;33m,\u001b[0m\u001b[1;36m2\u001b[0m\u001b[1;33m,\u001b[0m\u001b[1;36m4\u001b[0m\u001b[1;33m,\u001b[0m\u001b[1;36m5\u001b[0m\u001b[1;33m)\u001b[0m\u001b[1;33m,\u001b[0m \u001b[0mn_neurons\u001b[0m\u001b[1;33m=\u001b[0m\u001b[1;36m32\u001b[0m\u001b[1;33m,\u001b[0m \u001b[0mn_epochs\u001b[0m\u001b[1;33m=\u001b[0m\u001b[0mn_epochs\u001b[0m\u001b[1;33m,\u001b[0m \u001b[0mverbose\u001b[0m\u001b[1;33m=\u001b[0m\u001b[1;34m'auto'\u001b[0m\u001b[1;33m,\u001b[0m \u001b[0moptimizer\u001b[0m\u001b[1;33m=\u001b[0m\u001b[0mkeras\u001b[0m\u001b[1;33m.\u001b[0m\u001b[0moptimizers\u001b[0m\u001b[1;33m.\u001b[0m\u001b[0mAdam\u001b[0m\u001b[1;33m(\u001b[0m\u001b[0mlearning_rate\u001b[0m\u001b[1;33m=\u001b[0m\u001b[1;36m5e-3\u001b[0m\u001b[1;33m)\u001b[0m\u001b[1;33m,\u001b[0m \u001b[0mloss\u001b[0m\u001b[1;33m=\u001b[0m\u001b[1;34m'mse'\u001b[0m\u001b[1;33m,\u001b[0m \u001b[0mmetrics\u001b[0m\u001b[1;33m=\u001b[0m\u001b[1;33m[\u001b[0m\u001b[0mMaxAbsoluteError\u001b[0m\u001b[1;33m(\u001b[0m\u001b[1;33m)\u001b[0m\u001b[1;33m]\u001b[0m\u001b[1;33m)\u001b[0m\u001b[1;33m\u001b[0m\u001b[1;33m\u001b[0m\u001b[0m\n\u001b[0m\u001b[0;32m      4\u001b[0m \u001b[0mpreds\u001b[0m\u001b[1;33m,\u001b[0m \u001b[0mlf\u001b[0m \u001b[1;33m=\u001b[0m \u001b[0mpredict_rmi_model\u001b[0m\u001b[1;33m(\u001b[0m\u001b[0mmodel\u001b[0m\u001b[1;33m,\u001b[0m \u001b[0mtestx\u001b[0m\u001b[1;33m,\u001b[0m \u001b[0mwith_leaf\u001b[0m\u001b[1;33m=\u001b[0m\u001b[1;32mTrue\u001b[0m\u001b[1;33m)\u001b[0m\u001b[1;33m\u001b[0m\u001b[1;33m\u001b[0m\u001b[0m\n\u001b[0;32m      5\u001b[0m \u001b[0mlf\u001b[0m\u001b[1;33m,\u001b[0m \u001b[0mlfcounts\u001b[0m \u001b[1;33m=\u001b[0m \u001b[0mnp\u001b[0m\u001b[1;33m.\u001b[0m\u001b[0munique\u001b[0m\u001b[1;33m(\u001b[0m\u001b[0mlf\u001b[0m\u001b[1;33m,\u001b[0m \u001b[0mreturn_counts\u001b[0m\u001b[1;33m=\u001b[0m\u001b[1;32mTrue\u001b[0m\u001b[1;33m)\u001b[0m\u001b[1;33m\u001b[0m\u001b[1;33m\u001b[0m\u001b[0m\n",
      "\u001b[1;32m~\\Desktop\\python-projects\\CS490LDA-Project1\\model.py\u001b[0m in \u001b[0;36mbuild_fit_rmi_model\u001b[1;34m(dataset, stages, n_layers, n_neurons, n_epochs, verbose, initializer, **kwargs)\u001b[0m\n\u001b[0;32m     51\u001b[0m             \u001b[0mnext_stage_size\u001b[0m \u001b[1;33m=\u001b[0m \u001b[1;36m1\u001b[0m \u001b[1;32mif\u001b[0m \u001b[0mi\u001b[0m \u001b[1;33m+\u001b[0m \u001b[1;36m1\u001b[0m \u001b[1;33m==\u001b[0m \u001b[0mlen\u001b[0m\u001b[1;33m(\u001b[0m\u001b[0mstages\u001b[0m\u001b[1;33m)\u001b[0m \u001b[1;32melse\u001b[0m \u001b[0mstages\u001b[0m\u001b[1;33m[\u001b[0m\u001b[0mi\u001b[0m \u001b[1;33m+\u001b[0m \u001b[1;36m1\u001b[0m\u001b[1;33m]\u001b[0m\u001b[1;33m\u001b[0m\u001b[1;33m\u001b[0m\u001b[0m\n\u001b[0;32m     52\u001b[0m             \u001b[0mnn\u001b[0m \u001b[1;33m=\u001b[0m \u001b[0mnew_stage_model\u001b[0m\u001b[1;33m(\u001b[0m\u001b[0mnext_stage_size\u001b[0m\u001b[1;33m=\u001b[0m\u001b[1;36m1\u001b[0m\u001b[1;33m,\u001b[0m \u001b[0mn_layers\u001b[0m\u001b[1;33m=\u001b[0m\u001b[0mn_layers\u001b[0m\u001b[1;33m,\u001b[0m \u001b[0mn_neurons\u001b[0m\u001b[1;33m=\u001b[0m\u001b[0mn_neurons\u001b[0m\u001b[1;33m,\u001b[0m \u001b[0minitializer\u001b[0m\u001b[1;33m=\u001b[0m\u001b[0minitializer\u001b[0m\u001b[1;33m,\u001b[0m \u001b[1;33m**\u001b[0m\u001b[0mkwargs\u001b[0m\u001b[1;33m)\u001b[0m\u001b[1;33m\u001b[0m\u001b[1;33m\u001b[0m\u001b[0m\n\u001b[1;32m---> 53\u001b[1;33m             \u001b[1;32mif\u001b[0m \u001b[0mlen\u001b[0m\u001b[1;33m(\u001b[0m\u001b[0mtmp_records\u001b[0m\u001b[1;33m[\u001b[0m\u001b[0mi\u001b[0m\u001b[1;33m]\u001b[0m\u001b[1;33m[\u001b[0m\u001b[0mj\u001b[0m\u001b[1;33m]\u001b[0m\u001b[1;33m)\u001b[0m \u001b[1;33m>\u001b[0m \u001b[1;36m0\u001b[0m\u001b[1;33m:\u001b[0m\u001b[1;33m\u001b[0m\u001b[1;33m\u001b[0m\u001b[0m\n\u001b[0m\u001b[0;32m     54\u001b[0m                 \u001b[1;32mif\u001b[0m \u001b[0mi\u001b[0m \u001b[1;33m>\u001b[0m \u001b[1;36m0\u001b[0m\u001b[1;33m:\u001b[0m\u001b[1;33m\u001b[0m\u001b[1;33m\u001b[0m\u001b[0m\n\u001b[0;32m     55\u001b[0m                     \u001b[0mnn\u001b[0m\u001b[1;33m.\u001b[0m\u001b[0mload_weights\u001b[0m\u001b[1;33m(\u001b[0m\u001b[1;34m'rootmodel.tf'\u001b[0m\u001b[1;33m)\u001b[0m\u001b[1;33m\u001b[0m\u001b[1;33m\u001b[0m\u001b[0m\n",
      "\u001b[1;31mIndexError\u001b[0m: list index out of range"
     ]
    }
   ],
   "source": [
    "from matplotlib.patches import Rectangle\n",
    "n_epochs=5\n",
    "model = build_fit_rmi_model(dataset, stages=(1,2,4,5), n_neurons=32, n_epochs=n_epochs, verbose='auto', optimizer=keras.optimizers.Adam(learning_rate=5e-3), loss='mse', metrics=[MaxAbsoluteError()])\n",
    "preds, lf = predict_rmi_model(model, testx, with_leaf=True)\n",
    "lf, lfcounts = np.unique(lf, return_counts=True)\n",
    "mkrs = [(0,0)]\n",
    "for li in lfcounts:\n",
    "    mkrs.append((mkrs[-1][1],mkrs[-1][1] + li - 1))\n",
    "mkrs = mkrs[1:]\n",
    "mkhts = [(preds[mi[0]], preds[mi[1]]) for mi in mkrs]\n",
    "fig, ax = plt.subplots()\n",
    "seps = np.arange(0, len(testx), 2)\n",
    "linax = ax.twinx()\n",
    "linax.set_ylabel(\"Placement of Index\")\n",
    "linax.set_ylim(0, len(testx))\n",
    "linax.plot(range(len(testx)), range(len(testx)), linestyle='dotted', lw=2)\n",
    "linax.plot(range(len(testx)), preds, lw=2, c='r')\n",
    "linax.plot(range(len(testx)), abs(testy.reshape(-1)-preds.reshape(-1)), lw=0.8, c='k')\n",
    "ax.hist(preds.reshape(-1), bins=seps, alpha=0.4, label='Predicted')\n",
    "ax.hist(testy.reshape(-1), bins=seps, alpha=0.4, label='Actual')\n",
    "ax.set_title(f\"Prediction Distribution for RMI Model ($E={n_epochs}$)\")\n",
    "ax.set_xlabel(\"Returned Index\")\n",
    "ax.set_ylabel(\"Frequency\")\n",
    "ax.set_ylim(0,5)\n",
    "# ax.vlines(mkrs, ymin=0, ymax=5, colors='k')\n",
    "for m in range(len(mkrs)):\n",
    "    linax.add_patch(Rectangle((mkrs[m][0], mkhts[m][0]), mkrs[m][1]-mkrs[m][0], mkhts[m][1] - mkhts[m][0], facecolor='none', edgecolor='k', linestyle='dotted'))\n",
    "fig.set_size_inches((12,8))\n",
    "plt.show()"
   ]
  },
  {
   "cell_type": "code",
   "execution_count": 4,
   "id": "a6afe825-f1ea-485d-b4eb-292719711a37",
   "metadata": {},
   "outputs": [
    {
     "name": "stdout",
     "output_type": "stream",
     "text": [
      "[0, 0, 0, 0, 0, 0, 0, 0, 0, 0, 0, 0, 0, 0, 0, 0, 0, 0, 0, 0, 0, 0, 0, 0, 0, 0, 0, 0, 0, 0, 0, 0, 0, 0, 0, 0, 0, 0, 0, 0, 0, 0, 0, 0, 0, 0, 0, 0, 0, 0, 0, 0, 0, 0, 0, 1, 1, 1, 1, 1, 1, 1, 1, 1, 1, 1, 1, 1, 1, 1, 1, 1, 1, 1, 1, 1, 1, 1, 1, 1, 1, 1, 1, 1, 1, 1, 1, 1, 1, 1, 1, 1, 1, 1, 1, 1, 1, 1, 1, 1]\n",
      "[0, 0, 0, 0, 0, 0, 0, 0, 0, 0, 0, 0, 0, 0, 0, 0, 0, 0, 0, 0, 0, 0, 0, 0, 0, 0, 0, 0, 0, 0, 0, 0, 0, 0, 0, 0, 0, 0, 0, 0, 0, 0, 0, 0, 0, 0, 0, 0, 0, 0, 0, 0, 0, 0, 0, 0, 0, 0, 0, 0, 0, 0, 0, 1, 1, 1, 1, 1, 1, 1, 1, 1, 1, 1, 1, 1, 1, 1, 1, 1, 1, 1, 1, 1, 1, 1, 1, 1, 1, 1, 1, 1, 1, 1, 1, 1, 1, 1, 1, 1]\n",
      "[0, 0, 0, 0, 0, 0, 0, 0, 0, 0, 0, 0, 0, 0, 0, 0, 0, 0, 0, 0, 0, 0, 0, 0, 0, 1, 1, 1, 1, 1, 1, 1, 1, 1, 1, 1, 1, 1, 1, 1, 1, 1, 1, 1, 1, 1, 1, 1, 1, 1, 1, 2, 2, 2, 2, 2, 2, 2, 2, 2, 2, 2, 2, 1, 1, 1, 1, 1, 1, 1, 1, 1, 1, 1, 1, 1, 1, 1, 1, 1, 1, 1, 1, 1, 1, 1, 1, 1, 1, 1, 1, 1, 1, 1, 1, 1, 1, 1, 1, 1]\n"
     ]
    },
    {
     "ename": "AttributeError",
     "evalue": "'list' object has no attribute 'reshape'",
     "output_type": "error",
     "traceback": [
      "\u001b[1;31m---------------------------------------------------------------------------\u001b[0m",
      "\u001b[1;31mAttributeError\u001b[0m                            Traceback (most recent call last)",
      "\u001b[1;32m<ipython-input-4-192a0f374722>\u001b[0m in \u001b[0;36m<module>\u001b[1;34m\u001b[0m\n\u001b[0;32m     18\u001b[0m     \u001b[0mlinax\u001b[0m\u001b[1;33m.\u001b[0m\u001b[0mplot\u001b[0m\u001b[1;33m(\u001b[0m\u001b[0mrange\u001b[0m\u001b[1;33m(\u001b[0m\u001b[0mlen\u001b[0m\u001b[1;33m(\u001b[0m\u001b[0mtestx\u001b[0m\u001b[1;33m)\u001b[0m\u001b[1;33m)\u001b[0m\u001b[1;33m,\u001b[0m \u001b[0mrange\u001b[0m\u001b[1;33m(\u001b[0m\u001b[0mlen\u001b[0m\u001b[1;33m(\u001b[0m\u001b[0mtestx\u001b[0m\u001b[1;33m)\u001b[0m\u001b[1;33m)\u001b[0m\u001b[1;33m,\u001b[0m \u001b[0mlinestyle\u001b[0m\u001b[1;33m=\u001b[0m\u001b[1;34m'dotted'\u001b[0m\u001b[1;33m,\u001b[0m \u001b[0mlw\u001b[0m\u001b[1;33m=\u001b[0m\u001b[1;36m2\u001b[0m\u001b[1;33m)\u001b[0m\u001b[1;33m\u001b[0m\u001b[1;33m\u001b[0m\u001b[0m\n\u001b[0;32m     19\u001b[0m     \u001b[0mlinax\u001b[0m\u001b[1;33m.\u001b[0m\u001b[0mplot\u001b[0m\u001b[1;33m(\u001b[0m\u001b[0mrange\u001b[0m\u001b[1;33m(\u001b[0m\u001b[0mlen\u001b[0m\u001b[1;33m(\u001b[0m\u001b[0mtestx\u001b[0m\u001b[1;33m)\u001b[0m\u001b[1;33m)\u001b[0m\u001b[1;33m,\u001b[0m \u001b[0mpreds\u001b[0m\u001b[1;33m,\u001b[0m \u001b[0mlw\u001b[0m\u001b[1;33m=\u001b[0m\u001b[1;36m2\u001b[0m\u001b[1;33m,\u001b[0m \u001b[0mc\u001b[0m\u001b[1;33m=\u001b[0m\u001b[1;34m'r'\u001b[0m\u001b[1;33m)\u001b[0m\u001b[1;33m\u001b[0m\u001b[1;33m\u001b[0m\u001b[0m\n\u001b[1;32m---> 20\u001b[1;33m     \u001b[0max\u001b[0m\u001b[1;33m.\u001b[0m\u001b[0mhist\u001b[0m\u001b[1;33m(\u001b[0m\u001b[0mpreds\u001b[0m\u001b[1;33m.\u001b[0m\u001b[0mreshape\u001b[0m\u001b[1;33m(\u001b[0m\u001b[1;33m-\u001b[0m\u001b[1;36m1\u001b[0m\u001b[1;33m)\u001b[0m\u001b[1;33m,\u001b[0m \u001b[0mbins\u001b[0m\u001b[1;33m=\u001b[0m\u001b[0mseps\u001b[0m\u001b[1;33m,\u001b[0m \u001b[0malpha\u001b[0m\u001b[1;33m=\u001b[0m\u001b[1;36m0.4\u001b[0m\u001b[1;33m,\u001b[0m \u001b[0mlabel\u001b[0m\u001b[1;33m=\u001b[0m\u001b[1;34m'Predicted'\u001b[0m\u001b[1;33m)\u001b[0m\u001b[1;33m\u001b[0m\u001b[1;33m\u001b[0m\u001b[0m\n\u001b[0m\u001b[0;32m     21\u001b[0m     \u001b[0max\u001b[0m\u001b[1;33m.\u001b[0m\u001b[0mhist\u001b[0m\u001b[1;33m(\u001b[0m\u001b[0mtesty\u001b[0m\u001b[1;33m.\u001b[0m\u001b[0mreshape\u001b[0m\u001b[1;33m(\u001b[0m\u001b[1;33m-\u001b[0m\u001b[1;36m1\u001b[0m\u001b[1;33m)\u001b[0m\u001b[1;33m,\u001b[0m \u001b[0mbins\u001b[0m\u001b[1;33m=\u001b[0m\u001b[0mseps\u001b[0m\u001b[1;33m,\u001b[0m \u001b[0malpha\u001b[0m\u001b[1;33m=\u001b[0m\u001b[1;36m0.4\u001b[0m\u001b[1;33m,\u001b[0m \u001b[0mlabel\u001b[0m\u001b[1;33m=\u001b[0m\u001b[1;34m'Actual'\u001b[0m\u001b[1;33m)\u001b[0m\u001b[1;33m\u001b[0m\u001b[1;33m\u001b[0m\u001b[0m\n\u001b[0;32m     22\u001b[0m     \u001b[0max\u001b[0m\u001b[1;33m.\u001b[0m\u001b[0mset_title\u001b[0m\u001b[1;33m(\u001b[0m\u001b[1;34mf\"Prediction Distribution for RMI Model ($E={n_epochs}$)\"\u001b[0m\u001b[1;33m)\u001b[0m\u001b[1;33m\u001b[0m\u001b[1;33m\u001b[0m\u001b[0m\n",
      "\u001b[1;31mAttributeError\u001b[0m: 'list' object has no attribute 'reshape'"
     ]
    },
    {
     "data": {
      "image/png": "[encoded data removed]",
      "text/plain": [
       "<Figure size 432x288 with 3 Axes>"
      ]
     },
     "metadata": {},
     "output_type": "display_data"
    }
   ],
   "source": [
    "cumloss = []\n",
    "max_epoch = 50\n",
    "for n_epochs in range(1,max_epoch+1):\n",
    "    model = build_fit_rmi_model(dataset, n_neurons=128, n_epochs=n_epochs, optimizer=keras.optimizers.Adam(learning_rate=5e-3), loss='mse', verbose=0)\n",
    "\n",
    "    preds = predict_rmi_model(model, testx)\n",
    "    mse = keras.metrics.MeanSquaredError()\n",
    "    mse.update_state(preds, testy.reshape(-1,1))\n",
    "    cumloss.append(mse.result().numpy())\n",
    "    \n",
    "    c = np.c_[preds, testy.reshape(-1,1)]\n",
    "\n",
    "    fig, (ax, lax) = plt.subplots(2,1)\n",
    "    seps = np.arange(0, len(testx), 2)\n",
    "    linax = ax.twinx()\n",
    "    linax.set_ylabel(\"Placement of Index\")\n",
    "    linax.set_ylim(0, len(testx))\n",
    "    linax.plot(range(len(testx)), range(len(testx)), linestyle='dotted', lw=2)\n",
    "    linax.plot(range(len(testx)), preds, lw=2, c='r')\n",
    "    ax.hist(preds.reshape(-1), bins=seps, alpha=0.4, label='Predicted')\n",
    "    ax.hist(testy.reshape(-1), bins=seps, alpha=0.4, label='Actual')\n",
    "    ax.set_title(f\"Prediction Distribution for RMI Model ($E={n_epochs}$)\")\n",
    "    ax.set_xlabel(\"Returned Index\")\n",
    "    ax.set_ylabel(\"Frequency\")\n",
    "    ax.set_ylim(0,5)\n",
    "    ax.legend(loc='upper left')\n",
    "    lax.plot(range(len(cumloss)), np.log10(cumloss), c='k')\n",
    "    lax.set_title(\"LogMSE Over Epochs\")\n",
    "    lax.set_xlabel(\"# Epoch\")\n",
    "    lax.set_ylabel(\"LogMSE\")\n",
    "    lax.set_xlim(0,max_epoch)\n",
    "    lax.set_ylim(0,5)\n",
    "    fig.set_size_inches((12,12))\n",
    "    # plt.show()\n",
    "    plt.tight_layout()\n",
    "    plt.savefig(f\"modeling_imgs/n_epochs_{n_epochs}.png\")\n",
    "    plt.close()\n",
    "    print(f\"{n_epochs}...\", end=' ')"
   ]
  },
  {
   "cell_type": "code",
   "execution_count": 5,
   "id": "1c14990f-c4f0-4d3a-8541-7a5dd91989ee",
   "metadata": {},
   "outputs": [
    {
     "name": "stdout",
     "output_type": "stream",
     "text": [
      "Epoch 1/100\n",
      "5000/5000 [==============================] - ETA: 0s - loss: 3810654.7500 - max_absolute_error: 13687.5898 ETA: 0s - loss: 4348633.0000 -  - 8s 1ms/step - loss: 3776359.7500 - max_absolute_error: 13687.5898\n",
      "Epoch 2/100\n",
      "5000/5000 [==============================] - 6s 1ms/step - loss: 231.0148 - max_absolute_error: 43.8812\n",
      "Epoch 3/100\n",
      "5000/5000 [==============================] - 6s 1ms/step - loss: 255.7868 - max_absolute_error: 53.9753A: 1s - loss: 242.7464 - max_absolute_error - ETA: 1s - loss: 246.4148 - max_absolute_error: 43.60 - ETA: 1s - loss: 246.8089 -\n",
      "Epoch 4/100\n",
      "5000/5000 [==============================] - 6s 1ms/step - loss: 267.2081 - max_absolute_error: 60.7070\n",
      "Epoch 5/100\n",
      "5000/5000 [==============================] - 6s 1ms/step - loss: 241.9344 - max_absolute_error: 60.1689A: 0s - loss: 243.3635 - max_absolute_error: \n",
      "Epoch 6/100\n",
      "5000/5000 [==============================] - 6s 1ms/step - loss: 231.2430 - max_absolute_error: 74.7393A: 0s - loss: 229.2930 - max_absolute\n",
      "Epoch 7/100\n",
      "5000/5000 [==============================] - 6s 1ms/step - loss: 226.5927 - max_absolute_error: 56.4780A\n",
      "Epoch 8/100\n",
      "5000/5000 [==============================] - 6s 1ms/step - loss: 208.2402 - max_absolute_error: 53.5254\n",
      "Epoch 9/100\n",
      "5000/5000 [==============================] - 6s 1ms/step - loss: 210.7878 - max_absolute_error: 55.6685\n",
      "Epoch 10/100\n",
      "5000/5000 [==============================] - 6s 1ms/step - loss: 199.5461 - max_absolute_error: 56.1743\n",
      "Epoch 11/100\n",
      "2744/5000 [===============>..............] - ETA: 2s - loss: 201.3526 - max_absolute_error: 68.4990- ETA: 4s - loss - ETA: 2s - loss: 205.3367 - max_absolute_error: 68."
     ]
    },
    {
     "ename": "KeyboardInterrupt",
     "evalue": "",
     "output_type": "error",
     "traceback": [
      "\u001b[1;31m---------------------------------------------------------------------------\u001b[0m",
      "\u001b[1;31mKeyboardInterrupt\u001b[0m                         Traceback (most recent call last)",
      "\u001b[1;32m<ipython-input-5-ab41d42caaf2>\u001b[0m in \u001b[0;36m<module>\u001b[1;34m\u001b[0m\n\u001b[0;32m      3\u001b[0m exm.compile(loss='mse', optimizer='adam', \n\u001b[0;32m      4\u001b[0m             metrics=[MaxAbsoluteError()])\n\u001b[1;32m----> 5\u001b[1;33m \u001b[0mexhist\u001b[0m \u001b[1;33m=\u001b[0m \u001b[0mexm\u001b[0m\u001b[1;33m.\u001b[0m\u001b[0mfit\u001b[0m\u001b[1;33m(\u001b[0m\u001b[0mdataset\u001b[0m\u001b[1;33m,\u001b[0m \u001b[0mepochs\u001b[0m\u001b[1;33m=\u001b[0m\u001b[1;36m100\u001b[0m\u001b[1;33m)\u001b[0m\u001b[1;33m\u001b[0m\u001b[1;33m\u001b[0m\u001b[0m\n\u001b[0m\u001b[0;32m      6\u001b[0m \u001b[0mmape\u001b[0m \u001b[1;33m=\u001b[0m \u001b[0mexhist\u001b[0m\u001b[1;33m.\u001b[0m\u001b[0mhistory\u001b[0m\u001b[1;33m[\u001b[0m\u001b[1;34m'max_absolute_error'\u001b[0m\u001b[1;33m]\u001b[0m\u001b[1;33m\u001b[0m\u001b[1;33m\u001b[0m\u001b[0m\n\u001b[0;32m      7\u001b[0m \u001b[0mlos\u001b[0m \u001b[1;33m=\u001b[0m \u001b[0mexhist\u001b[0m\u001b[1;33m.\u001b[0m\u001b[0mhistory\u001b[0m\u001b[1;33m[\u001b[0m\u001b[1;34m'loss'\u001b[0m\u001b[1;33m]\u001b[0m\u001b[1;33m\u001b[0m\u001b[1;33m\u001b[0m\u001b[0m\n",
      "\u001b[1;32m~\\anaconda3\\lib\\site-packages\\keras\\engine\\training.py\u001b[0m in \u001b[0;36mfit\u001b[1;34m(self, x, y, batch_size, epochs, verbose, callbacks, validation_split, validation_data, shuffle, class_weight, sample_weight, initial_epoch, steps_per_epoch, validation_steps, validation_batch_size, validation_freq, max_queue_size, workers, use_multiprocessing)\u001b[0m\n\u001b[0;32m   1182\u001b[0m                 _r=1):\n\u001b[0;32m   1183\u001b[0m               \u001b[0mcallbacks\u001b[0m\u001b[1;33m.\u001b[0m\u001b[0mon_train_batch_begin\u001b[0m\u001b[1;33m(\u001b[0m\u001b[0mstep\u001b[0m\u001b[1;33m)\u001b[0m\u001b[1;33m\u001b[0m\u001b[1;33m\u001b[0m\u001b[0m\n\u001b[1;32m-> 1184\u001b[1;33m               \u001b[0mtmp_logs\u001b[0m \u001b[1;33m=\u001b[0m \u001b[0mself\u001b[0m\u001b[1;33m.\u001b[0m\u001b[0mtrain_function\u001b[0m\u001b[1;33m(\u001b[0m\u001b[0miterator\u001b[0m\u001b[1;33m)\u001b[0m\u001b[1;33m\u001b[0m\u001b[1;33m\u001b[0m\u001b[0m\n\u001b[0m\u001b[0;32m   1185\u001b[0m               \u001b[1;32mif\u001b[0m \u001b[0mdata_handler\u001b[0m\u001b[1;33m.\u001b[0m\u001b[0mshould_sync\u001b[0m\u001b[1;33m:\u001b[0m\u001b[1;33m\u001b[0m\u001b[1;33m\u001b[0m\u001b[0m\n\u001b[0;32m   1186\u001b[0m                 \u001b[0mcontext\u001b[0m\u001b[1;33m.\u001b[0m\u001b[0masync_wait\u001b[0m\u001b[1;33m(\u001b[0m\u001b[1;33m)\u001b[0m\u001b[1;33m\u001b[0m\u001b[1;33m\u001b[0m\u001b[0m\n",
      "\u001b[1;32m~\\anaconda3\\lib\\site-packages\\tensorflow\\python\\eager\\def_function.py\u001b[0m in \u001b[0;36m__call__\u001b[1;34m(self, *args, **kwds)\u001b[0m\n\u001b[0;32m    883\u001b[0m \u001b[1;33m\u001b[0m\u001b[0m\n\u001b[0;32m    884\u001b[0m       \u001b[1;32mwith\u001b[0m \u001b[0mOptionalXlaContext\u001b[0m\u001b[1;33m(\u001b[0m\u001b[0mself\u001b[0m\u001b[1;33m.\u001b[0m\u001b[0m_jit_compile\u001b[0m\u001b[1;33m)\u001b[0m\u001b[1;33m:\u001b[0m\u001b[1;33m\u001b[0m\u001b[1;33m\u001b[0m\u001b[0m\n\u001b[1;32m--> 885\u001b[1;33m         \u001b[0mresult\u001b[0m \u001b[1;33m=\u001b[0m \u001b[0mself\u001b[0m\u001b[1;33m.\u001b[0m\u001b[0m_call\u001b[0m\u001b[1;33m(\u001b[0m\u001b[1;33m*\u001b[0m\u001b[0margs\u001b[0m\u001b[1;33m,\u001b[0m \u001b[1;33m**\u001b[0m\u001b[0mkwds\u001b[0m\u001b[1;33m)\u001b[0m\u001b[1;33m\u001b[0m\u001b[1;33m\u001b[0m\u001b[0m\n\u001b[0m\u001b[0;32m    886\u001b[0m \u001b[1;33m\u001b[0m\u001b[0m\n\u001b[0;32m    887\u001b[0m       \u001b[0mnew_tracing_count\u001b[0m \u001b[1;33m=\u001b[0m \u001b[0mself\u001b[0m\u001b[1;33m.\u001b[0m\u001b[0mexperimental_get_tracing_count\u001b[0m\u001b[1;33m(\u001b[0m\u001b[1;33m)\u001b[0m\u001b[1;33m\u001b[0m\u001b[1;33m\u001b[0m\u001b[0m\n",
      "\u001b[1;32m~\\anaconda3\\lib\\site-packages\\tensorflow\\python\\eager\\def_function.py\u001b[0m in \u001b[0;36m_call\u001b[1;34m(self, *args, **kwds)\u001b[0m\n\u001b[0;32m    915\u001b[0m       \u001b[1;31m# In this case we have created variables on the first call, so we run the\u001b[0m\u001b[1;33m\u001b[0m\u001b[1;33m\u001b[0m\u001b[1;33m\u001b[0m\u001b[0m\n\u001b[0;32m    916\u001b[0m       \u001b[1;31m# defunned version which is guaranteed to never create variables.\u001b[0m\u001b[1;33m\u001b[0m\u001b[1;33m\u001b[0m\u001b[1;33m\u001b[0m\u001b[0m\n\u001b[1;32m--> 917\u001b[1;33m       \u001b[1;32mreturn\u001b[0m \u001b[0mself\u001b[0m\u001b[1;33m.\u001b[0m\u001b[0m_stateless_fn\u001b[0m\u001b[1;33m(\u001b[0m\u001b[1;33m*\u001b[0m\u001b[0margs\u001b[0m\u001b[1;33m,\u001b[0m \u001b[1;33m**\u001b[0m\u001b[0mkwds\u001b[0m\u001b[1;33m)\u001b[0m  \u001b[1;31m# pylint: disable=not-callable\u001b[0m\u001b[1;33m\u001b[0m\u001b[1;33m\u001b[0m\u001b[0m\n\u001b[0m\u001b[0;32m    918\u001b[0m     \u001b[1;32melif\u001b[0m \u001b[0mself\u001b[0m\u001b[1;33m.\u001b[0m\u001b[0m_stateful_fn\u001b[0m \u001b[1;32mis\u001b[0m \u001b[1;32mnot\u001b[0m \u001b[1;32mNone\u001b[0m\u001b[1;33m:\u001b[0m\u001b[1;33m\u001b[0m\u001b[1;33m\u001b[0m\u001b[0m\n\u001b[0;32m    919\u001b[0m       \u001b[1;31m# Release the lock early so that multiple threads can perform the call\u001b[0m\u001b[1;33m\u001b[0m\u001b[1;33m\u001b[0m\u001b[1;33m\u001b[0m\u001b[0m\n",
      "\u001b[1;32m~\\anaconda3\\lib\\site-packages\\tensorflow\\python\\eager\\function.py\u001b[0m in \u001b[0;36m__call__\u001b[1;34m(self, *args, **kwargs)\u001b[0m\n\u001b[0;32m   3037\u001b[0m       (graph_function,\n\u001b[0;32m   3038\u001b[0m        filtered_flat_args) = self._maybe_define_function(args, kwargs)\n\u001b[1;32m-> 3039\u001b[1;33m     return graph_function._call_flat(\n\u001b[0m\u001b[0;32m   3040\u001b[0m         filtered_flat_args, captured_inputs=graph_function.captured_inputs)  # pylint: disable=protected-access\n\u001b[0;32m   3041\u001b[0m \u001b[1;33m\u001b[0m\u001b[0m\n",
      "\u001b[1;32m~\\anaconda3\\lib\\site-packages\\tensorflow\\python\\eager\\function.py\u001b[0m in \u001b[0;36m_call_flat\u001b[1;34m(self, args, captured_inputs, cancellation_manager)\u001b[0m\n\u001b[0;32m   1961\u001b[0m         and executing_eagerly):\n\u001b[0;32m   1962\u001b[0m       \u001b[1;31m# No tape is watching; skip to running the function.\u001b[0m\u001b[1;33m\u001b[0m\u001b[1;33m\u001b[0m\u001b[1;33m\u001b[0m\u001b[0m\n\u001b[1;32m-> 1963\u001b[1;33m       return self._build_call_outputs(self._inference_function.call(\n\u001b[0m\u001b[0;32m   1964\u001b[0m           ctx, args, cancellation_manager=cancellation_manager))\n\u001b[0;32m   1965\u001b[0m     forward_backward = self._select_forward_and_backward_functions(\n",
      "\u001b[1;32m~\\anaconda3\\lib\\site-packages\\tensorflow\\python\\eager\\function.py\u001b[0m in \u001b[0;36mcall\u001b[1;34m(self, ctx, args, cancellation_manager)\u001b[0m\n\u001b[0;32m    589\u001b[0m       \u001b[1;32mwith\u001b[0m \u001b[0m_InterpolateFunctionError\u001b[0m\u001b[1;33m(\u001b[0m\u001b[0mself\u001b[0m\u001b[1;33m)\u001b[0m\u001b[1;33m:\u001b[0m\u001b[1;33m\u001b[0m\u001b[1;33m\u001b[0m\u001b[0m\n\u001b[0;32m    590\u001b[0m         \u001b[1;32mif\u001b[0m \u001b[0mcancellation_manager\u001b[0m \u001b[1;32mis\u001b[0m \u001b[1;32mNone\u001b[0m\u001b[1;33m:\u001b[0m\u001b[1;33m\u001b[0m\u001b[1;33m\u001b[0m\u001b[0m\n\u001b[1;32m--> 591\u001b[1;33m           outputs = execute.execute(\n\u001b[0m\u001b[0;32m    592\u001b[0m               \u001b[0mstr\u001b[0m\u001b[1;33m(\u001b[0m\u001b[0mself\u001b[0m\u001b[1;33m.\u001b[0m\u001b[0msignature\u001b[0m\u001b[1;33m.\u001b[0m\u001b[0mname\u001b[0m\u001b[1;33m)\u001b[0m\u001b[1;33m,\u001b[0m\u001b[1;33m\u001b[0m\u001b[1;33m\u001b[0m\u001b[0m\n\u001b[0;32m    593\u001b[0m               \u001b[0mnum_outputs\u001b[0m\u001b[1;33m=\u001b[0m\u001b[0mself\u001b[0m\u001b[1;33m.\u001b[0m\u001b[0m_num_outputs\u001b[0m\u001b[1;33m,\u001b[0m\u001b[1;33m\u001b[0m\u001b[1;33m\u001b[0m\u001b[0m\n",
      "\u001b[1;32m~\\anaconda3\\lib\\site-packages\\tensorflow\\python\\eager\\execute.py\u001b[0m in \u001b[0;36mquick_execute\u001b[1;34m(op_name, num_outputs, inputs, attrs, ctx, name)\u001b[0m\n\u001b[0;32m     57\u001b[0m   \u001b[1;32mtry\u001b[0m\u001b[1;33m:\u001b[0m\u001b[1;33m\u001b[0m\u001b[1;33m\u001b[0m\u001b[0m\n\u001b[0;32m     58\u001b[0m     \u001b[0mctx\u001b[0m\u001b[1;33m.\u001b[0m\u001b[0mensure_initialized\u001b[0m\u001b[1;33m(\u001b[0m\u001b[1;33m)\u001b[0m\u001b[1;33m\u001b[0m\u001b[1;33m\u001b[0m\u001b[0m\n\u001b[1;32m---> 59\u001b[1;33m     tensors = pywrap_tfe.TFE_Py_Execute(ctx._handle, device_name, op_name,\n\u001b[0m\u001b[0;32m     60\u001b[0m                                         inputs, attrs, num_outputs)\n\u001b[0;32m     61\u001b[0m   \u001b[1;32mexcept\u001b[0m \u001b[0mcore\u001b[0m\u001b[1;33m.\u001b[0m\u001b[0m_NotOkStatusException\u001b[0m \u001b[1;32mas\u001b[0m \u001b[0me\u001b[0m\u001b[1;33m:\u001b[0m\u001b[1;33m\u001b[0m\u001b[1;33m\u001b[0m\u001b[0m\n",
      "\u001b[1;31mKeyboardInterrupt\u001b[0m: "
     ]
    }
   ],
   "source": [
    "exm = new_stage_model(n_neurons=8, n_layers=1)\n",
    "# exm.add_metric(keras.metrics.Sum(name='sum1')(exm.outputs), name='sum')\n",
    "exm.compile(loss='mse', optimizer='adam', \n",
    "            metrics=[MaxAbsoluteError()])\n",
    "exhist = exm.fit(dataset, epochs=100)\n",
    "mape = exhist.history['max_absolute_error']\n",
    "los = exhist.history['loss']\n",
    "fig, (mapeax, lax, hax) = plt.subplots(3,1)\n",
    "mapeax.plot(range(len(mape)), mape)\n",
    "mapeax.set_title(\"MaxAE in training\")\n",
    "mapeax.set_xlabel(\"Epoch #\")\n",
    "mapeax.set_xticks(range(0,len(mape),5))\n",
    "mapeax.set_ylabel(\"MaxAE\")\n",
    "lax.plot(range(len(mape)), los)\n",
    "lax.set_title(\"MSE Loss in training\")\n",
    "lax.set_xlabel(\"Epoch #\")\n",
    "lax.set_xticks(range(0,len(mape),5))\n",
    "lax.set_ylabel(\"MSE Loss\")\n",
    "lax.set_yscale('log')\n",
    "preds = exm.predict(testx) + 1\n",
    "seps = np.arange(0,L,max(1,L//25))\n",
    "hax.hist(preds.reshape(-1), bins=seps, alpha=0.4, label='Predicted')\n",
    "hax.hist(testy.reshape(-1), bins=seps, alpha=0.4, label='Actual')\n",
    "hax.set_title(\"Key Distribution\")\n",
    "hax.set_xlim(0,L)\n",
    "hax.set_ylim(0,L//2)\n",
    "hax.set_xlabel(\"Key index\")\n",
    "hax.set_ylabel(\"Frequency\")\n",
    "hax.legend()\n",
    "fig.set_size_inches((12,12))\n",
    "plt.tight_layout()\n",
    "plt.show()"
   ]
  },
  {
   "cell_type": "code",
   "execution_count": 4,
   "id": "9290a43c-59aa-4c23-9ec5-535035e4df90",
   "metadata": {},
   "outputs": [
    {
     "name": "stdout",
     "output_type": "stream",
     "text": [
      "Num GPUs Available:  1\n"
     ]
    },
    {
     "data": {
      "text/plain": [
       "[PhysicalDevice(name='/physical_device:CPU:0', device_type='CPU'),\n",
       " PhysicalDevice(name='/physical_device:GPU:0', device_type='GPU')]"
      ]
     },
     "execution_count": 4,
     "metadata": {},
     "output_type": "execute_result"
    }
   ],
   "source": [
    "print(\"Num GPUs Available: \", len(tf.config.list_physical_devices('GPU')))\n",
    "tf.config.list_physical_devices()"
   ]
  }
 ],
 "metadata": {
  "kernelspec": {
   "display_name": "Python 3",
   "language": "python",
   "name": "python3"
  },
  "language_info": {
   "codemirror_mode": {
    "name": "ipython",
    "version": 3
   },
   "file_extension": ".py",
   "mimetype": "text/x-python",
   "name": "python",
   "nbconvert_exporter": "python",
   "pygments_lexer": "ipython3",
   "version": "3.8.8"
  }
 },
 "nbformat": 4,
 "nbformat_minor": 5
}
