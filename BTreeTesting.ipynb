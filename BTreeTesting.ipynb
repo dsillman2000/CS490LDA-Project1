{
 "cells": [
  {
   "cell_type": "code",
   "execution_count": 2,
   "id": "662bdf0c-8395-420d-8593-3478dedc0322",
   "metadata": {},
   "outputs": [],
   "source": [
    "import numpy as np\n",
    "import enum"
   ]
  },
  {
   "cell_type": "code",
   "execution_count": null,
   "id": "5fd89e44-8e73-435b-b55c-f866c79ca71a",
   "metadata": {},
   "outputs": [],
   "source": [
    "class BTree:\n",
    "    class Node:\n",
    "        \n",
    "        \"\"\"\n",
    "        B-Tree node class, implemented in the tree.\n",
    "        \"\"\"\n",
    "        def __init__(self, B):\n",
    "            \"\"\"\n",
    "            Initializes the empty node with a capacity of `B`.\n",
    "            \n",
    "            :param B: The capacity and child count of the node.\n",
    "            \"\"\"\n",
    "            self.B = B\n",
    "            self.contents = []\n",
    "            self.parent = None\n",
    "            self.children = []\n",
    "        \n",
    "        def insert(self, element, overflowCb):\n",
    "            \"\"\"\n",
    "            Attempts insertion on a given node.\n",
    "            \n",
    "            :param element: The element attempting insertion.\n",
    "            \"\"\"\n",
    "            for e in range(len(self.contents)):\n",
    "                if self.contents[e] >= element:\n",
    "                    if len(self.contents) < self.B:\n",
    "                        self.contents.insert(e, element)\n",
    "                        return True\n",
    "                    elif \n",
    "                    "
   ]
  }
 ],
 "metadata": {
  "kernelspec": {
   "display_name": "Python 3",
   "language": "python",
   "name": "python3"
  },
  "language_info": {
   "codemirror_mode": {
    "name": "ipython",
    "version": 3
   },
   "file_extension": ".py",
   "mimetype": "text/x-python",
   "name": "python",
   "nbconvert_exporter": "python",
   "pygments_lexer": "ipython3",
   "version": "3.8.8"
  }
 },
 "nbformat": 4,
 "nbformat_minor": 5
}
