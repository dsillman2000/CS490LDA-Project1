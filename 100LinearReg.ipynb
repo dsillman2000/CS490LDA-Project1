{
 "cells": [
  {
   "cell_type": "markdown",
   "id": "7163ba83-824c-4db9-a24c-16c5a1189cc3",
   "metadata": {},
   "source": [
    "# Linear Regression: 100 Models"
   ]
  },
  {
   "cell_type": "markdown",
   "id": "54b96bdd-c729-41b2-94d9-a1fc4bc27070",
   "metadata": {},
   "source": [
    "## Experiment 1 : Bimodal Normal Distribtution (60k)"
   ]
  },
  {
   "cell_type": "code",
   "execution_count": 1,
   "id": "b68467d6-d4b0-4a54-9b16-13fbaa1e4610",
   "metadata": {},
   "outputs": [
    {
     "data": {
      "image/png": "[encoded data removed]",
      "text/plain": [
       "<Figure size 432x288 with 1 Axes>"
      ]
     },
     "metadata": {},
     "output_type": "display_data"
    }
   ],
   "source": [
    "import pickle\n",
    "import numpy as np\n",
    "\n",
    "with open(\"bimodal60k.data\", \"rb\") as f:\n",
    "    dataset = pickle.load(f)\n",
    "\n",
    "import matplotlib.pyplot as plt\n",
    "import seaborn as sns\n",
    "sns.set()\n",
    "\n",
    "plt.hist(dataset[0], bins=30)\n",
    "plt.title(f\"Bimodal Dataset ($N = {len(dataset[0])}$)\")\n",
    "plt.show()"
   ]
  },
  {
   "cell_type": "markdown",
   "id": "3b7baf95-c53a-4c72-84c5-d301f39c1df1",
   "metadata": {},
   "source": [
    "----\n",
    "#### Computing Build Time"
   ]
  },
  {
   "cell_type": "code",
   "execution_count": 2,
   "id": "dc5ea359-f6b9-46b5-88c5-5225d3129964",
   "metadata": {
    "tags": []
   },
   "outputs": [
    {
     "name": "stdout",
     "output_type": "stream",
     "text": [
      "100 Lin Reg Build Time: 0.03899669647216797 sec\n"
     ]
    }
   ],
   "source": [
    "from sklearn.linear_model import LinearRegression\n",
    "from cdf_interp.search import pinch_predict, exponential_search, informed_bsearch\n",
    "from time import time\n",
    "\n",
    "def model(data, numregressors):\n",
    "    regressors = []\n",
    "    idx = range(data.shape[0])\n",
    "    length = len(data)\n",
    "    for i in range(numregressors):\n",
    "        start = int(i * length / numregressors)\n",
    "        end = int((i + 1) * length / numregressors)\n",
    "\n",
    "        X = np.array(data[start:end]).reshape(-1, 1)\n",
    "        Y = np.asarray(idx[start:end])\n",
    "\n",
    "        regr = LinearRegression()\n",
    "        regr.fit(X, Y)\n",
    "\n",
    "        regressors.append((X[-1], regr.predict))\n",
    "    \n",
    "    return regressors\n",
    "\n",
    "def piecewisepredict(regressors):\n",
    "    def inner(x):\n",
    "        for up, predict in regressors:\n",
    "            if x <= up:\n",
    "                return predict([[x]])[0]\n",
    "    return inner\n",
    "\n",
    "t0 = time()\n",
    "data = dataset[0,:]\n",
    "regressors = model(data, 100)\n",
    "predict = pinch_predict(data, piecewisepredict(regressors))\n",
    "es = exponential_search(data, predict)\n",
    "bs = informed_bsearch(data, predict)\n",
    "t1 = time()\n",
    "ols10_buildtime = t1-t0\n",
    "print(f\"100 Lin Reg Build Time: {ols10_buildtime} sec\")"
   ]
  },
  {
   "cell_type": "markdown",
   "id": "233b5695-d21a-432f-a5cc-e8678d370b1a",
   "metadata": {},
   "source": [
    "-----------\n",
    "#### Computing Query Time and Array Accesses"
   ]
  },
  {
   "cell_type": "code",
   "execution_count": 3,
   "id": "0bc7b977-d105-4fde-b899-fbdf585dd974",
   "metadata": {},
   "outputs": [
    {
     "name": "stdout",
     "output_type": "stream",
     "text": [
      "100 Lin Reg Query Time: 8.682092825571696e-05\n",
      "100 Lin Reg Arr. Access: 14.556916666666666\n"
     ]
    }
   ],
   "source": [
    "ols10_array_accesses = 0\n",
    "N = dataset.shape[1]\n",
    "from tqdm import tqdm\n",
    "t0 = time()\n",
    "for i in range(N):\n",
    "    q = dataset[0,i,0]\n",
    "    yhat = bs(q)\n",
    "    ols10_array_accesses += yhat[1]\n",
    "    running_avg = ols10_array_accesses / float(N)\n",
    "t1 = time()\n",
    "ols10_querytime = t1-t0\n",
    "print(f\"100 Lin Reg Query Time: {ols10_querytime / float(N)}\")\n",
    "print(f\"100 Lin Reg Arr. Access: {running_avg}\")"
   ]
  },
  {
   "cell_type": "markdown",
   "id": "af84329d-5a56-40d8-91d6-bda6b339860b",
   "metadata": {
    "tags": []
   },
   "source": [
    "-------\n",
    "#### Computing Storage Cost"
   ]
  },
  {
   "cell_type": "code",
   "execution_count": 4,
   "id": "e3d96bc2-4c83-4747-9410-737a850f4ffc",
   "metadata": {},
   "outputs": [
    {
     "name": "stdout",
     "output_type": "stream",
     "text": [
      "100 Lin Reg Storage: 2400 B\n"
     ]
    }
   ],
   "source": [
    "BYTES_PER_FLOAT = 8\n",
    "NUM_FLOATS = 2 * 100 + 100\n",
    "ols10_storage = BYTES_PER_FLOAT * NUM_FLOATS\n",
    "print(f\"100 Lin Reg Storage: {ols10_storage} B\")"
   ]
  },
  {
   "cell_type": "markdown",
   "id": "073c230e-5df7-448b-a96a-f44613dce723",
   "metadata": {
    "tags": []
   },
   "source": [
    "## Experiment 2: Mac OSX Log Timestamps (106k)"
   ]
  },
  {
   "cell_type": "code",
   "execution_count": 6,
   "id": "5e663a52-4f5a-4c75-a62d-b84770651129",
   "metadata": {},
   "outputs": [
    {
     "data": {
      "image/png": "[encoded data removed]",
      "text/plain": [
       "<Figure size 432x288 with 1 Axes>"
      ]
     },
     "metadata": {},
     "output_type": "display_data"
    }
   ],
   "source": [
    "with open(\"mac117k.data\", \"rb\") as f:\n",
    "    dataset = pickle.load(f)\n",
    "plt.hist(dataset[0], bins=30)\n",
    "plt.title(f\"Mac Log Timestamp Dataset ($N = {len(dataset[0])}$)\")\n",
    "plt.show()"
   ]
  },
  {
   "cell_type": "markdown",
   "id": "00dce61c-9c6c-4785-a99f-d7533411bbf3",
   "metadata": {},
   "source": [
    "----\n",
    "#### Computing Build Time"
   ]
  },
  {
   "cell_type": "code",
   "execution_count": 7,
   "id": "f1355066-0280-4090-ac05-1490ca066b3f",
   "metadata": {
    "tags": []
   },
   "outputs": [
    {
     "name": "stdout",
     "output_type": "stream",
     "text": [
      "100 Lin Reg Build Time: 0.03999662399291992 sec\n"
     ]
    }
   ],
   "source": [
    "from sklearn.linear_model import LinearRegression\n",
    "from cdf_interp.search import pinch_predict, exponential_search, informed_bsearch\n",
    "from time import time\n",
    "\n",
    "def model(data, numregressors):\n",
    "    regressors = []\n",
    "    idx = range(data.shape[0])\n",
    "    length = len(data)\n",
    "    for i in range(numregressors):\n",
    "        start = int(i * length / numregressors)\n",
    "        end = int((i + 1) * length / numregressors)\n",
    "\n",
    "        X = np.array(data[start:end]).reshape(-1, 1)\n",
    "        Y = np.asarray(idx[start:end])\n",
    "\n",
    "        regr = LinearRegression()\n",
    "        regr.fit(X, Y)\n",
    "\n",
    "        regressors.append((X[-1], regr.predict))\n",
    "    \n",
    "    return regressors\n",
    "\n",
    "def piecewisepredict(regressors):\n",
    "    def inner(x):\n",
    "        for up, predict in regressors:\n",
    "            if x <= up:\n",
    "                return predict([[x]])[0]\n",
    "    return inner\n",
    "\n",
    "t0 = time()\n",
    "data = dataset[0,:]\n",
    "regressors = model(data, 100)\n",
    "predict = pinch_predict(data, piecewisepredict(regressors))\n",
    "es = exponential_search(data, predict)\n",
    "bs = informed_bsearch(data, predict)\n",
    "t1 = time()\n",
    "ols10_buildtime = t1-t0\n",
    "print(f\"100 Lin Reg Build Time: {ols10_buildtime} sec\")"
   ]
  },
  {
   "cell_type": "markdown",
   "id": "aa5bf7c1-a495-4ffb-92c5-11368b2e300e",
   "metadata": {},
   "source": [
    "-----------\n",
    "#### Computing Query Time and Array Accesses"
   ]
  },
  {
   "cell_type": "code",
   "execution_count": 8,
   "id": "007d117e-b4b7-4559-a12c-bc2985e0ccf7",
   "metadata": {},
   "outputs": [
    {
     "name": "stdout",
     "output_type": "stream",
     "text": [
      "100 Lin Reg Query Time: 8.934821881181208e-05\n",
      "100 Lin Reg Arr. Access: 15.049646724558054\n"
     ]
    }
   ],
   "source": [
    "ols10_array_accesses = 0\n",
    "N = dataset.shape[1]\n",
    "from tqdm import tqdm\n",
    "t0 = time()\n",
    "for i in range(N):\n",
    "    q = dataset[0,i,0]\n",
    "    yhat = bs(q)\n",
    "    ols10_array_accesses += yhat[1]\n",
    "    running_avg = ols10_array_accesses / float(N)\n",
    "t1 = time()\n",
    "ols10_querytime = t1-t0\n",
    "print(f\"100 Lin Reg Query Time: {ols10_querytime / float(N)}\")\n",
    "print(f\"100 Lin Reg Arr. Access: {running_avg}\")"
   ]
  },
  {
   "cell_type": "markdown",
   "id": "2066e190-71a3-4991-9a63-6c7729a32ad7",
   "metadata": {
    "tags": []
   },
   "source": [
    "-------\n",
    "#### Computing Storage Cost"
   ]
  },
  {
   "cell_type": "code",
   "execution_count": 9,
   "id": "c46be88e-d46b-4f32-bb26-66e02e422521",
   "metadata": {},
   "outputs": [
    {
     "name": "stdout",
     "output_type": "stream",
     "text": [
      "100 Lin Reg Storage: 2400 B\n"
     ]
    }
   ],
   "source": [
    "BYTES_PER_FLOAT = 8\n",
    "NUM_FLOATS = 2 * 100 + 100\n",
    "ols10_storage = BYTES_PER_FLOAT * NUM_FLOATS\n",
    "print(f\"100 Lin Reg Storage: {ols10_storage} B\")"
   ]
  },
  {
   "cell_type": "code",
   "execution_count": null,
   "id": "c2755ca7-dfcd-4451-a405-d2e5fe871fdd",
   "metadata": {},
   "outputs": [],
   "source": []
  }
 ],
 "metadata": {
  "kernelspec": {
   "display_name": "Python 3",
   "language": "python",
   "name": "python3"
  },
  "language_info": {
   "codemirror_mode": {
    "name": "ipython",
    "version": 3
   },
   "file_extension": ".py",
   "mimetype": "text/x-python",
   "name": "python",
   "nbconvert_exporter": "python",
   "pygments_lexer": "ipython3",
   "version": "3.8.8"
  }
 },
 "nbformat": 4,
 "nbformat_minor": 5
}
